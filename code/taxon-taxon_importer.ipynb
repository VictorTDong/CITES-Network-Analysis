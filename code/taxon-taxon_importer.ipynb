{
 "cells": [
  {
   "cell_type": "code",
   "execution_count": 1,
   "metadata": {},
   "outputs": [],
   "source": [
    "import networkx as nx\n",
    "import pandas as pd\n",
    "import numpy as np\n",
    "from networkx.algorithms import bipartite\n",
    "from cProfile import label\n",
    "import matplotlib.pyplot as plt\n",
    "import matplotlib as mpl\n",
    "import itertools\n",
    "\n",
    "%matplotlib inline"
   ]
  },
  {
   "cell_type": "code",
   "execution_count": null,
   "metadata": {},
   "outputs": [],
   "source": [
    "def plot_degree_dist(G):\n",
    "    \n",
    "    degrees = [G.degree(n) for n in G.nodes()]\n",
    "    kmin = min(degrees)\n",
    "    kmax = max(degrees)\n",
    "    \n",
    "    if kmin>0:\n",
    "        bin_edges = np.logspace(np.log10(kmin), np.log10(kmax)+1, num=20)\n",
    "    else:\n",
    "        bin_edges = np.logspace(0, np.log10(kmax)+1, num=20)\n",
    "    density, _ = np.histogram(degrees, bins=bin_edges, density=True)\n",
    "\n",
    "    print(bin_edges)\n",
    "    print(density)\n",
    "    \n",
    "    fig = plt.figure(figsize=(12,12))\n",
    "\n",
    "    log_be = np.log10(bin_edges)\n",
    "    x = 10**((log_be[1:] + log_be[:-1])/2)\n",
    "    plt.loglog(x, density, marker='o', linestyle='none')\n",
    "    plt.xlabel(r\"degree $k$\", fontsize=16)\n",
    "    plt.ylabel(r\"$P(k)$\", fontsize=16)\n",
    "\n",
    "    ax = plt.gca()\n",
    "    ax.spines['right'].set_visible(False)\n",
    "    ax.spines['top'].set_visible(False)\n",
    "    ax.yaxis.set_ticks_position('left')\n",
    "    ax.xaxis.set_ticks_position('bottom')"
   ]
  },
  {
   "cell_type": "code",
   "execution_count": 2,
   "metadata": {},
   "outputs": [],
   "source": [
    "df = pd.read_csv('../data/taxon-importer.csv', header=0)\n",
    "G = nx.Graph()  # or DiGraph, MultiGraph, MultiDiGraph, etc\n",
    "\n",
    "taxons = {}\n",
    "purpose = {}\n",
    "       \n",
    "        \n",
    "for index, row in df.iterrows():\n",
    "    if(row['Taxon'] not in taxons):\n",
    "        purpose = {}\n",
    "\n",
    "    details = {\"Appendix\": row['Appendix'], \"Class\": row['Class'], \"Order\": row['Order'], \"Family\": row['Family'], \"Genus\": row['Genus']}\n",
    "    \n",
    "    if(row['Purpose'] == \"B\"):\n",
    "        purposeCode = \"Breeding\"\n",
    "    if(row['Purpose'] == \"E\"):\n",
    "        purposeCode = \"Educational\"\n",
    "    if(row['Purpose'] == \"G\"):\n",
    "        purposeCode = \"Garden\"\n",
    "    if(row['Purpose'] == \"H\"):\n",
    "        purposeCode = \"Hunting\"\n",
    "    if(row['Purpose'] == \"L\"):\n",
    "        purposeCode = \"Law\"\n",
    "    if(row['Purpose'] == \"M\"):\n",
    "        purposeCode = \"Medical\"\n",
    "    if(row['Purpose'] == \"R\"):\n",
    "        purposeCode = \"Reintroduction to wild\"\n",
    "    if(row['Purpose'] == \"P\"):\n",
    "        purposeCode = \"Personal\"\n",
    "    if(row['Purpose'] == \"Q\"):\n",
    "        purposeCode = \"Circus\"\n",
    "    if(row['Purpose'] == \"S\"):\n",
    "        purposeCode = \"Scientific\"\n",
    "    if(row['Purpose'] == \"T\"):\n",
    "        purposeCode = \"Commercial\"\n",
    "    if(row['Purpose'] == \"Z\"):\n",
    "        purposeCode = \"Zoo\"\n",
    "    if(row['Purpose'] == \"Unspecified\"):\n",
    "        purposeCode = \"Unspecified\"\n",
    "        \n",
    "    purposeDetails = {purposeCode: \"X\"}\n",
    "        \n",
    "    purpose.update(purposeDetails)\n",
    "    attributes = {\"Details\": details, \"Purpose\": purpose}\n",
    "\n",
    "    taxons.update({row['Taxon']: row['Taxon']})\n",
    "    G.add_node(row['Taxon'], **attributes)\n",
    "\n",
    "df2 = df.drop_duplicates(['Taxon', 'Importer'])\n",
    "for i, group in df2.groupby(['Importer'])['Taxon']: #https://stackoverflow.com/questions/35089255/pandas-reshape-dataframe-to-edge-list-according-to-column-values\n",
    "    # generate all combinations without replacement \n",
    "    # from the group of similar column pairs\n",
    "    for u, v in itertools.combinations(group, 2):        \n",
    "        if(G.has_edge(u,v)):\n",
    "            G[u][v]['weight'] += 1\n",
    "        else:\n",
    "            G.add_edge(u, v, weight = 1)\n",
    "\n",
    "nx.write_gml(G, \"taxon-taxon-importer.gml\")\n"
   ]
  },
  {
   "cell_type": "code",
   "execution_count": null,
   "metadata": {},
   "outputs": [],
   "source": [
    "degrees = [G.degree[node] for node in G]\n",
    "print(\"Number of nodes: \", G.number_of_nodes())\n",
    "print(\"Number of edges: \", G.number_of_edges())\n",
    "print()\n",
    "print(\"Average degree:\", np.mean(degrees))\n",
    "print(\"Minimum degree: \", min(degrees))\n",
    "print(\"Maximum degree: \", max(degrees))\n",
    "\n",
    "plot_degree_dist(G)"
   ]
  }
 ],
 "metadata": {
  "kernelspec": {
   "display_name": "Python 3.9.13 ('base')",
   "language": "python",
   "name": "python3"
  },
  "language_info": {
   "codemirror_mode": {
    "name": "ipython",
    "version": 3
   },
   "file_extension": ".py",
   "mimetype": "text/x-python",
   "name": "python",
   "nbconvert_exporter": "python",
   "pygments_lexer": "ipython3",
   "version": "3.9.13"
  },
  "orig_nbformat": 4,
  "vscode": {
   "interpreter": {
    "hash": "ad2bdc8ecc057115af97d19610ffacc2b4e99fae6737bb82f5d7fb13d2f2c186"
   }
  }
 },
 "nbformat": 4,
 "nbformat_minor": 2
}

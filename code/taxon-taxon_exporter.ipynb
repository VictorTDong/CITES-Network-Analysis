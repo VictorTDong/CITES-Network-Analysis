{
 "cells": [
  {
   "cell_type": "code",
   "execution_count": 41,
   "metadata": {},
   "outputs": [],
   "source": [
    "import networkx as nx\n",
    "import pandas as pd\n",
    "import numpy as np\n",
    "from networkx.algorithms import bipartite\n",
    "from cProfile import label\n",
    "import matplotlib.pyplot as plt\n",
    "import matplotlib as mpl\n",
    "import itertools\n",
    "%matplotlib inline"
   ]
  },
  {
   "cell_type": "markdown",
   "metadata": {},
   "source": []
  },
  {
   "cell_type": "code",
   "execution_count": 42,
   "metadata": {},
   "outputs": [],
   "source": [
    "\n",
    "df = pd.read_csv('../data/taxon-exporter.csv', header=0)\n",
    "G = nx.Graph()  # or DiGraph, MultiGraph, MultiDiGraph, etc\n",
    "\n",
    "taxons = {}\n",
    "purpose = {}\n",
    "        \n",
    "for index, row in df.iterrows():\n",
    "    if(row['Taxon'] not in taxons):\n",
    "        purpose = {}\n",
    "\n",
    "    details = {\"Appendix\": row['Appendix'], \"Class\": row['Class'], \"Order\": row['Order'], \"Family\": row['Family'], \"Genus\": row['Genus']}\n",
    "    \n",
    "    if(row['Purpose'] == \"B\"):\n",
    "        purposeCode = \"Breeding\"\n",
    "    if(row['Purpose'] == \"E\"):\n",
    "        purposeCode = \"Educational\"\n",
    "    if(row['Purpose'] == \"G\"):\n",
    "        purposeCode = \"Garden\"\n",
    "    if(row['Purpose'] == \"H\"):\n",
    "        purposeCode = \"Hunting\"\n",
    "    if(row['Purpose'] == \"L\"):\n",
    "        purposeCode = \"Law\"\n",
    "    if(row['Purpose'] == \"M\"):\n",
    "        purposeCode = \"Medical\"\n",
    "    if(row['Purpose'] == \"R\"):\n",
    "        purposeCode = \"Reintroduction to wild\"\n",
    "    if(row['Purpose'] == \"P\"):\n",
    "        purposeCode = \"Personal\"\n",
    "    if(row['Purpose'] == \"Q\"):\n",
    "        purposeCode = \"Circus\"\n",
    "    if(row['Purpose'] == \"S\"):\n",
    "        purposeCode = \"Scientific\"\n",
    "    if(row['Purpose'] == \"T\"):\n",
    "        purposeCode = \"Commercial\"\n",
    "    if(row['Purpose'] == \"Z\"):\n",
    "        purposeCode = \"Zoo\"\n",
    "    if(row['Purpose'] == \"Unspecified\"):\n",
    "        purposeCode = \"Unspecified\"\n",
    "        \n",
    "    purposeDetails = {purposeCode: \"X\"}\n",
    "        \n",
    "    purpose.update(purposeDetails)\n",
    "    attributes = {\"Details\": details, \"Purpose\": purpose}\n",
    "\n",
    "    taxons.update({row['Taxon']: row['Taxon']})\n",
    "    G.add_node(row['Taxon'], **attributes)\n",
    "\n",
    "\n",
    "for i, group in df.groupby(['Exporter'])['Taxon']:\n",
    "    # generate all combinations without replacement \n",
    "    # from the group of similar column pairs\n",
    "    for u, v in itertools.combinations(group, 2):        \n",
    "        G.add_edge(u, v, country = i)\n",
    "\n",
    "nx.write_gml(G, \"taxon-taxon-exporter.gml\")\n",
    "\n"
   ]
  },
  {
   "cell_type": "markdown",
   "metadata": {},
   "source": []
  }
 ],
 "metadata": {
  "kernelspec": {
   "display_name": "Python 3.9.13 ('base')",
   "language": "python",
   "name": "python3"
  },
  "language_info": {
   "codemirror_mode": {
    "name": "ipython",
    "version": 3
   },
   "file_extension": ".py",
   "mimetype": "text/x-python",
   "name": "python",
   "nbconvert_exporter": "python",
   "pygments_lexer": "ipython3",
   "version": "3.9.13"
  },
  "orig_nbformat": 4,
  "vscode": {
   "interpreter": {
    "hash": "ad2bdc8ecc057115af97d19610ffacc2b4e99fae6737bb82f5d7fb13d2f2c186"
   }
  }
 },
 "nbformat": 4,
 "nbformat_minor": 2
}
